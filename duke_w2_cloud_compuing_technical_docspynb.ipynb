{
  "nbformat": 4,
  "nbformat_minor": 0,
  "metadata": {
    "colab": {
      "provenance": [],
      "authorship_tag": "ABX9TyPqDsEz20XkzJxdPDNYptxQ",
      "include_colab_link": true
    },
    "kernelspec": {
      "name": "python3",
      "display_name": "Python 3"
    },
    "language_info": {
      "name": "python"
    }
  },
  "cells": [
    {
      "cell_type": "markdown",
      "metadata": {
        "id": "view-in-github",
        "colab_type": "text"
      },
      "source": [
        "<a href=\"https://colab.research.google.com/github/evinai/tut-duke-cloud-w1-technical-discussions/blob/main/duke_w2_cloud_compuing_technical_docspynb.ipynb\" target=\"_parent\"><img src=\"https://colab.research.google.com/assets/colab-badge.svg\" alt=\"Open In Colab\"/></a>"
      ]
    },
    {
      "cell_type": "markdown",
      "source": [
        "## Ingest"
      ],
      "metadata": {
        "id": "YvGPLs9AZ_RY"
      }
    },
    {
      "cell_type": "code",
      "execution_count": null,
      "metadata": {
        "id": "KzCgPPqcZ2wf"
      },
      "outputs": [],
      "source": [
        "def hello():\n",
        "  return \"hi\""
      ]
    },
    {
      "cell_type": "markdown",
      "source": [
        "## EDA"
      ],
      "metadata": {
        "id": "ky3dtm_0aHmO"
      }
    },
    {
      "cell_type": "code",
      "source": [],
      "metadata": {
        "id": "7ll1EQMkaQ8V"
      },
      "execution_count": null,
      "outputs": []
    },
    {
      "cell_type": "markdown",
      "source": [
        "## Modeling Phase"
      ],
      "metadata": {
        "id": "7HvUCOx7aJTg"
      }
    },
    {
      "cell_type": "markdown",
      "source": [
        "## Conclusion"
      ],
      "metadata": {
        "id": "qADnHcytaSPn"
      }
    },
    {
      "cell_type": "code",
      "source": [],
      "metadata": {
        "id": "ykroenGwaC9O"
      },
      "execution_count": null,
      "outputs": []
    }
  ]
}